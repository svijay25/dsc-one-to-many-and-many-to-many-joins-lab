{
 "cells": [
  {
   "cell_type": "markdown",
   "metadata": {},
   "source": [
    "# One-to-Many and Many-to-Many Joins - Lab"
   ]
  },
  {
   "cell_type": "markdown",
   "metadata": {},
   "source": [
    "## Introduction"
   ]
  },
  {
   "cell_type": "markdown",
   "metadata": {},
   "source": [
    "In this lab, you'll practice your knowledge of one-to-many and many-to-many relationships!"
   ]
  },
  {
   "cell_type": "markdown",
   "metadata": {},
   "source": [
    "## Objectives\n",
    "\n",
    "You will be able to:\n",
    "\n",
    "* Explain one-to-many and many-to-many joins as well as implications for the size of query results\n",
    "* Query data using one-to-many and many-to-many joins"
   ]
  },
  {
   "cell_type": "markdown",
   "metadata": {},
   "source": [
    "## One-to-Many and Many-to-Many Joins\n",
    "<img src='https://curriculum-content.s3.amazonaws.com/data-science/images/Database-Schema.png' width=\"600\">"
   ]
  },
  {
   "cell_type": "markdown",
   "metadata": {},
   "source": [
    "## Connect to the Database\n",
    "\n",
    "Include the relevant imports, then connect to the database located at `data.sqlite`."
   ]
  },
  {
   "cell_type": "code",
   "execution_count": 1,
   "metadata": {},
   "outputs": [],
   "source": [
    "# Your code here\n",
    "import sqlite3\n",
    "import pandas as pd\n",
    "\n",
    "# Connect to the SQLite database\n",
    "connection = sqlite3.connect('data.sqlite')"
   ]
  },
  {
   "cell_type": "markdown",
   "metadata": {},
   "source": [
    "## Employees and Their Offices (a One-to-One Join)\n",
    "\n",
    "Select all of the employees including their first name and last name along with the city and state of the office that they work out of (if they have one). Include all employees and order them by their first name, then their last name."
   ]
  },
  {
   "cell_type": "code",
   "execution_count": 2,
   "metadata": {},
   "outputs": [
    {
     "name": "stdout",
     "output_type": "stream",
     "text": [
      "   firstName   lastName           city       state\n",
      "0       Andy     Fixter         Sydney            \n",
      "1    Anthony        Bow  San Francisco          CA\n",
      "2      Barry      Jones         London            \n",
      "3      Diane     Murphy  San Francisco          CA\n",
      "4   Foon Yue      Tseng            NYC          NY\n",
      "5     George     Vanauf            NYC          NY\n",
      "6     Gerard     Bondur          Paris            \n",
      "7     Gerard  Hernandez          Paris            \n",
      "8       Jeff   Firrelli  San Francisco          CA\n",
      "9      Julie   Firrelli         Boston          MA\n",
      "10     Larry       Bott         London            \n",
      "11    Leslie   Jennings  San Francisco          CA\n",
      "12    Leslie   Thompson  San Francisco          CA\n",
      "13      Loui     Bondur          Paris            \n",
      "14      Mami      Nishi          Tokyo  Chiyoda-Ku\n",
      "15    Martin     Gerard          Paris            \n",
      "16      Mary  Patterson  San Francisco          CA\n",
      "17    Pamela   Castillo          Paris            \n",
      "18     Peter      Marsh         Sydney            \n",
      "19     Steve  Patterson         Boston          MA\n",
      "20       Tom       King         Sydney            \n",
      "21   William  Patterson         Sydney            \n",
      "22   Yoshimi       Kato          Tokyo  Chiyoda-Ku\n"
     ]
    }
   ],
   "source": [
    "# Your code here\n",
    "# Define the SQL query\n",
    "query = \"\"\"\n",
    "SELECT employees.firstName, employees.lastName, offices.city, offices.state\n",
    "FROM employees\n",
    "LEFT JOIN offices ON employees.officeCode = offices.officeCode\n",
    "ORDER BY employees.firstName, employees.lastName\n",
    "\"\"\"\n",
    "\n",
    "# Execute the query and load the results into a DataFrame\n",
    "employees_offices_df = pd.read_sql(query, connection)\n",
    "\n",
    "# Display the DataFrame\n",
    "print(employees_offices_df)"
   ]
  },
  {
   "cell_type": "markdown",
   "metadata": {},
   "source": [
    "## Customers and Their Orders (a One-to-Many Join)\n",
    "\n",
    "Select all of the customer contacts (first and last names) along with details for each of the customers' order numbers, order dates, and statuses."
   ]
  },
  {
   "cell_type": "code",
   "execution_count": 3,
   "metadata": {},
   "outputs": [
    {
     "name": "stdout",
     "output_type": "stream",
     "text": [
      "    contactFirstName contactLastName  orderNumber   orderDate    status\n",
      "0             Paolo          Accorti        10280  2004-08-17   Shipped\n",
      "1             Paolo          Accorti        10293  2004-09-09   Shipped\n",
      "2             Rachel        Ashworth        10110  2003-03-18   Shipped\n",
      "3             Rachel        Ashworth        10306  2004-10-14   Shipped\n",
      "4             Rachel        Ashworth        10332  2004-11-17   Shipped\n",
      "..               ...             ...          ...         ...       ...\n",
      "321            Julie           Young        10145  2003-08-25   Shipped\n",
      "322            Julie           Young        10189  2003-11-18   Shipped\n",
      "323            Julie           Young        10367  2005-01-12  Resolved\n",
      "324             Mary           Young        10154  2003-10-02   Shipped\n",
      "325             Mary           Young        10376  2005-02-08   Shipped\n",
      "\n",
      "[326 rows x 5 columns]\n"
     ]
    }
   ],
   "source": [
    "# Your code here\n",
    "# Define the SQL query\n",
    "query = \"\"\"\n",
    "SELECT customers.contactFirstName, customers.contactLastName, orders.orderNumber, orders.orderDate, orders.status\n",
    "FROM customers\n",
    "JOIN orders ON customers.customerNumber = orders.customerNumber\n",
    "ORDER BY customers.contactLastName, customers.contactFirstName, orders.orderDate\n",
    "\"\"\"\n",
    "\n",
    "# Execute the query and load the results into a DataFrame\n",
    "customers_orders_df = pd.read_sql(query, connection)\n",
    "\n",
    "# Display the DataFrame\n",
    "print(customers_orders_df)\n"
   ]
  },
  {
   "cell_type": "markdown",
   "metadata": {},
   "source": [
    "## Customers and Their Payments (Another One-to-Many Join)\n",
    "\n",
    "Select all of the customer contacts (first and last names) along with details for each of the customers' payment amounts and date of payment. Sort these results in descending order by the payment amount. "
   ]
  },
  {
   "cell_type": "code",
   "execution_count": 4,
   "metadata": {},
   "outputs": [
    {
     "name": "stdout",
     "output_type": "stream",
     "text": [
      "    contactFirstName contactLastName     amount paymentDate\n",
      "0             Diego           Freyre  120166.58  2005-03-18\n",
      "1             Diego           Freyre  116208.40  2004-12-31\n",
      "2              Susan          Nelson  111654.40  2003-08-15\n",
      "3               Eric       Natividad  105743.00  2003-12-26\n",
      "4              Susan          Nelson  101244.59  2005-03-05\n",
      "..               ...             ...        ...         ...\n",
      "268          Carine          Schmitt    1676.14  2004-12-18\n",
      "269         Pascale         Cartrain    1627.56  2003-04-19\n",
      "270           Jonas       Bergulfsen    1491.38  2003-10-28\n",
      "271         Pascale         Cartrain    1128.20  2003-08-22\n",
      "272            Akiko       Shimamura     615.45  2005-05-18\n",
      "\n",
      "[273 rows x 4 columns]\n"
     ]
    }
   ],
   "source": [
    "# Your code here\n",
    "# Define the SQL query\n",
    "query = \"\"\"\n",
    "SELECT customers.contactFirstName, customers.contactLastName, payments.amount, payments.paymentDate\n",
    "FROM customers\n",
    "JOIN payments ON customers.customerNumber = payments.customerNumber\n",
    "ORDER BY payments.amount DESC\n",
    "\"\"\"\n",
    "\n",
    "# Execute the query and load the results into a DataFrame\n",
    "customers_payments_df = pd.read_sql(query, connection)\n",
    "\n",
    "# Display the DataFrame\n",
    "print(customers_payments_df)"
   ]
  },
  {
   "cell_type": "markdown",
   "metadata": {},
   "source": [
    "## Orders, Order Details, and Product Details (a Many-to-Many Join)"
   ]
  },
  {
   "cell_type": "markdown",
   "metadata": {},
   "source": [
    "Select all of the customer contacts (first and last names) along with the product names, quantities, and date ordered for each of the customers and each of their orders. Sort these in descending order by the order date.\n",
    "\n",
    "> Note: This will require joining 4 tables! This can be tricky! Give it a shot, and if you're still stuck, turn to the next section where you'll see how to write subqueries that can make complex queries such as this much simpler!"
   ]
  },
  {
   "cell_type": "code",
   "execution_count": 5,
   "metadata": {},
   "outputs": [
    {
     "name": "stdout",
     "output_type": "stream",
     "text": [
      "      orderNumber   orderDate      status productCode  quantityOrdered  \\\n",
      "0           10100  2003-01-06     Shipped    S18_2248               50   \n",
      "1           10100  2003-01-06     Shipped    S18_1749               30   \n",
      "2           10100  2003-01-06     Shipped    S18_4409               22   \n",
      "3           10100  2003-01-06     Shipped    S24_3969               49   \n",
      "4           10101  2003-01-09     Shipped    S18_2795               26   \n",
      "...           ...         ...         ...         ...              ...   \n",
      "2991        10425  2005-05-31  In Process    S24_1444               55   \n",
      "2992        10425  2005-05-31  In Process    S32_1268               41   \n",
      "2993        10425  2005-05-31  In Process    S18_3232               28   \n",
      "2994        10425  2005-05-31  In Process    S18_2238               28   \n",
      "2995        10425  2005-05-31  In Process    S50_1392               18   \n",
      "\n",
      "      priceEach                          productName       productLine  \\\n",
      "0         55.09                   1911 Ford Town Car      Vintage Cars   \n",
      "1        136.00             1917 Grand Touring Sedan      Vintage Cars   \n",
      "2         75.46  1932 Alfa Romeo 8C2300 Spider Sport      Vintage Cars   \n",
      "3         35.29     1936 Mercedes Benz 500k Roadster      Vintage Cars   \n",
      "4        167.06               1928 Mercedes-Benz SSK      Vintage Cars   \n",
      "...         ...                                  ...               ...   \n",
      "2991      53.75                   1970 Dodge Coronet      Classic Cars   \n",
      "2992      83.79          1980’s GM Manhattan Express  Trucks and Buses   \n",
      "2993     140.55          1992 Ferrari 360 Spider red      Classic Cars   \n",
      "2994     147.36       1998 Chrysler Plymouth Prowler      Classic Cars   \n",
      "2995      94.92     Diamond T620 Semi-Skirted Tanker  Trucks and Buses   \n",
      "\n",
      "     productScale              productVendor  \n",
      "0            1:18    Motor City Art Classics  \n",
      "1            1:18  Welly Diecast Productions  \n",
      "2            1:18              Exoto Designs  \n",
      "3            1:24          Red Start Diecast  \n",
      "4            1:18       Gearbox Collectibles  \n",
      "...           ...                        ...  \n",
      "2991         1:24   Highway 66 Mini Classics  \n",
      "2992         1:32    Motor City Art Classics  \n",
      "2993         1:18       Unimax Art Galleries  \n",
      "2994         1:18       Gearbox Collectibles  \n",
      "2995         1:50   Highway 66 Mini Classics  \n",
      "\n",
      "[2996 rows x 10 columns]\n"
     ]
    }
   ],
   "source": [
    "# Your code here\n",
    "# Define the SQL query\n",
    "query = \"\"\"\n",
    "SELECT orders.orderNumber, orders.orderDate, orders.status, \n",
    "       orderdetails.productCode, orderdetails.quantityOrdered, orderdetails.priceEach, \n",
    "       products.productName, products.productLine, products.productScale, products.productVendor\n",
    "FROM orders\n",
    "JOIN orderdetails ON orders.orderNumber = orderdetails.orderNumber\n",
    "JOIN products ON orderdetails.productCode = products.productCode\n",
    "ORDER BY orders.orderNumber, products.productName\n",
    "\"\"\"\n",
    "\n",
    "# Execute the query and load the results into a DataFrame\n",
    "orders_details_products_df = pd.read_sql(query, connection)\n",
    "\n",
    "# Display the DataFrame\n",
    "print(orders_details_products_df)\n"
   ]
  },
  {
   "cell_type": "markdown",
   "metadata": {},
   "source": [
    "## Summary"
   ]
  },
  {
   "cell_type": "markdown",
   "metadata": {},
   "source": [
    "In this lab, you practiced your knowledge of one-to-many and many-to-many relationships!"
   ]
  }
 ],
 "metadata": {
  "kernelspec": {
   "display_name": "Python 3 (ipykernel)",
   "language": "python",
   "name": "python3"
  },
  "language_info": {
   "codemirror_mode": {
    "name": "ipython",
    "version": 3
   },
   "file_extension": ".py",
   "mimetype": "text/x-python",
   "name": "python",
   "nbconvert_exporter": "python",
   "pygments_lexer": "ipython3",
   "version": "3.12.4"
  },
  "toc": {
   "base_numbering": 1,
   "nav_menu": {},
   "number_sections": true,
   "sideBar": true,
   "skip_h1_title": false,
   "title_cell": "Table of Contents",
   "title_sidebar": "Contents",
   "toc_cell": false,
   "toc_position": {},
   "toc_section_display": true,
   "toc_window_display": false
  }
 },
 "nbformat": 4,
 "nbformat_minor": 4
}
